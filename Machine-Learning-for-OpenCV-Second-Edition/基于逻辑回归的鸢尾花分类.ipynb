{
 "cells": [
  {
   "cell_type": "markdown",
   "metadata": {
    "collapsed": true,
    "pycharm": {
     "name": "#%% md\n"
    }
   },
   "source": [
    "二分类实现辨别是否是鸢尾花\n",
    "\n",
    "尽管名为逻辑回归，但实际上是一个分类模型，尤其是在我们只有两个类时。逻辑回归的名称来源于将输入的任意实值x转换成值在0到1\n",
    "采用sigmoid,划为[0,1]之间的数据 ,可以解释为概率\n",
    "\n",
    "为了简单起见，我们将重点关注前两个特征：花萼长度——我们将其称为特征f1，花萼的宽度——我们将其称为特征f2。使用在线性回归中学习的技巧，我们可以把输入x表示成两个特征f1和f2的一个线性组合：\n",
    "x = w1f1 + w2f2"
   ]
  },
  {
   "cell_type": "markdown",
   "source": [
    "第一步加载数据集"
   ],
   "metadata": {
    "collapsed": false
   }
  },
  {
   "cell_type": "code",
   "execution_count": 7,
   "outputs": [],
   "source": [
    "import numpy as np\n",
    "import matplotlib.pyplot as plt\n",
    "import cv2\n",
    "import sklearn\n",
    "%matplotlib inline\n",
    "from sklearn import datasets\n",
    "from sklearn import model_selection\n",
    "from sklearn import metrics\n",
    "plt.style.use('ggplot')\n",
    "\n",
    "\n",
    "iris = sklearn.datasets.load_iris()"
   ],
   "metadata": {
    "collapsed": false,
    "pycharm": {
     "name": "#%%\n"
    }
   }
  },
  {
   "cell_type": "markdown",
   "source": [
    "iris 数据集分析：\n",
    "directory\n",
    "dir() 函数不带参数时，返回当前范围内的变量、方法和定义的类型列表；带参数时，返回参数的属性、方法列表。如果参数包含方法__dir__()，该方法将被调用。如果参数不包含__dir__()，该方法将最大限度地收集参数信息.\n",
    "\n",
    "dir(iris)   dir()   #  获得当前模块的属性列表dir()\n",
    "所有的数据点都包含在'data'中。有150个数据点，每个数据点有4个特征值："
   ],
   "metadata": {
    "collapsed": false
   }
  },
  {
   "cell_type": "code",
   "execution_count": 16,
   "outputs": [
    {
     "data": {
      "text/plain": "(['DESCR',\n  'data',\n  'feature_names',\n  'filename',\n  'frame',\n  'target',\n  'target_names'],\n ['sepal length (cm)',\n  'sepal width (cm)',\n  'petal length (cm)',\n  'petal width (cm)'])"
     },
     "execution_count": 16,
     "metadata": {},
     "output_type": "execute_result"
    }
   ],
   "source": [
    "dir(iris),iris.feature_names"
   ],
   "metadata": {
    "collapsed": false,
    "pycharm": {
     "name": "#%%\n"
    }
   }
  },
  {
   "cell_type": "raw",
   "source": [
    "iris 数据集的directory：\n",
    "\n",
    "['DESCR',  #description\n",
    " 'data',    #完整数据\n",
    " 'feature_names',   #特征的名字\n",
    " 'filename',    #文件的所在地\n",
    " 'frame',       #空值\n",
    " 'target',      #label ,标签 ，（150，） [0,1,2]  三分类\n",
    " 'target_names']  # array(['setosa', 'versicolor', 'virginica']\n",
    "\n",
    "\n",
    " feature_names:\n",
    " ['sepal length (cm)',\n",
    "  'sepal width (cm)',0\n",
    "  'petal length (cm)',\n",
    "  'petal width (cm)'])\n",
    "  花瓣的长度和宽度、花萼的长度和宽度"
   ],
   "metadata": {
    "collapsed": false,
    "pycharm": {
     "name": "#%% raw\n"
    }
   }
  },
  {
   "cell_type": "code",
   "execution_count": 54,
   "outputs": [
    {
     "data": {
      "text/plain": "numpy.ndarray"
     },
     "execution_count": 54,
     "metadata": {},
     "output_type": "execute_result"
    }
   ],
   "source": [
    "np.unique(iris.target) #读取非重复元素  array([0, 1, 2])\n"
   ],
   "metadata": {
    "collapsed": false,
    "pycharm": {
     "name": "#%%\n"
    }
   }
  },
  {
   "cell_type": "markdown",
   "source": [
    "由于其内由三个数据为了让其 成为一个二分类的问题,\n",
    "子轩需要将一些数据丢弃掉啊-_-!!\n",
    "\n"
   ],
   "metadata": {
    "collapsed": false,
    "pycharm": {
     "name": "#%% md\n"
    }
   }
  },
  {
   "cell_type": "code",
   "execution_count": 63,
   "outputs": [
    {
     "data": {
      "text/plain": "array([0, 1])"
     },
     "execution_count": 63,
     "metadata": {},
     "output_type": "execute_result"
    }
   ],
   "source": [
    "idx = iris.target !=2 #此时 数据中只留下了 bool类型\n",
    "data = iris.data[idx].astype(np.float32) #传入bool类型，统计学习方法，筛选数据，还可以使用 x  for x in Y if x<2 ?\n",
    "target1 = list(filter(lambda x: x < 2,iris.target))\n",
    "target = iris.target[idx].astype(np.float32)\n",
    "target1 = np.array(target1)\n",
    "np.unique(target1)"
   ],
   "metadata": {
    "collapsed": false,
    "pycharm": {
     "name": "#%%\n"
    }
   }
  },
  {
   "cell_type": "markdown",
   "source": [
    "#生成器和迭代器\n",
    "dict_list = {}\n",
    "list0 = [x for x in range(5) if x]\n",
    "list1 = [x for x in range(5,10)]\n",
    "\n",
    "lambda高阶用法\n",
    "  fun1 = lambda x: x ** 2\n",
    "  iterable = filter(lambda x: x % 2, range(1, 10))\n",
    "  items1 = list(map(fun, iterable))\n",
    "  items2 = [x ** 2 for x in range(1, 10) if x % 2]\n",
    "\n",
    "  func = lambda x,y: x*10+y\n",
    "  func(1,2)\n",
    "\n",
    "filter()\n",
    "    filter（fun，sequence)\n",
    "\n",
    "    is_odd = lambda x : x%2 == 1\n",
    "    newList = filter(is_odd,[1, 2, 3, 4, 5, 6, 7, 8, 9, 10])\n",
    "    序列的每个元素作为参数传递给函数进行判断，\n",
    "    然后返回 True 或 False，最后将返回 True 的元素放到新列表中\n",
    "\n",
    "map()\n",
    "    map(fun，sequence)\n",
    "    function -- 函数\n",
    "    iterable -- 一个或多个序列\n",
    "    第一个参数 function 以参数序列中的每一个元素调用 function 函数，\n",
    "    返回包含每次 function 函数返回值的新列表,返回迭代器\n",
    "    map(lambda x:x**2, [1,2,3,4,5])\n",
    "\n",
    "\n",
    "\n",
    "\n",
    "map()和filter()都是对调用他们的数组进行遍历\n",
    "\n",
    "\n",
    "参数上map函数与filter是一样的，他们的差别就是函数是对每个元素做一个数学上的代换，而非条件的判断"
   ],
   "metadata": {
    "collapsed": false
   }
  },
  {
   "cell_type": "code",
   "execution_count": 41,
   "outputs": [
    {
     "data": {
      "text/plain": "[1, 2]"
     },
     "execution_count": 41,
     "metadata": {},
     "output_type": "execute_result"
    }
   ],
   "source": [
    "'''搞懂三个函数  map， lambda， filter'''\n",
    "ls = [1,2,3,4,5]\n",
    "map1 = list(map(lambda x:x**2,ls ))\n",
    "filter1 = list(filter(lambda x: x<3,ls) )#迭代对象 ，可以进行迭代，也可以实例化\n",
    "filter1"
   ],
   "metadata": {
    "collapsed": false,
    "pycharm": {
     "name": "#%%\n"
    }
   }
  },
  {
   "cell_type": "code",
   "execution_count": 52,
   "outputs": [
    {
     "data": {
      "text/plain": "array([ True,  True, False, False, False])"
     },
     "execution_count": 52,
     "metadata": {},
     "output_type": "execute_result"
    }
   ],
   "source": [
    "map2 = np.array(ls)<3\n",
    "map2"
   ],
   "metadata": {
    "collapsed": false,
    "pycharm": {
     "name": "#%%\n"
    }
   }
  },
  {
   "cell_type": "markdown",
   "source": [
    "创建散点图,plt.scatter() ,检查数据,\n",
    "x,y\n",
    "c对应颜色指示值，也就是如果采用了渐变色的话，我们设置c=x就能使得点的颜色根据点的x值变化\n",
    "cmap调整渐变色或者颜色列表的种类\n",
    "s控制点大小"
   ],
   "metadata": {
    "collapsed": false
   }
  },
  {
   "cell_type": "code",
   "execution_count": 15,
   "outputs": [
    {
     "data": {
      "text/plain": "<matplotlib.collections.PathCollection at 0x2857d9cfb38>"
     },
     "execution_count": 15,
     "metadata": {},
     "output_type": "execute_result"
    },
    {
     "data": {
      "text/plain": "<Figure size 432x288 with 1 Axes>",
      "image/png": "[encoded data removed]"
     },
     "metadata": {},
     "output_type": "display_data"
    }
   ],
   "source": [
    "plt.scatter(data[:,0],data[:,1],c =target,cmap='Paired',s = 100)"
   ],
   "metadata": {
    "collapsed": false,
    "pycharm": {
     "name": "#%%\n"
    }
   }
  },
  {
   "cell_type": "code",
   "execution_count": null,
   "outputs": [],
   "source": [],
   "metadata": {
    "collapsed": false,
    "pycharm": {
     "name": "#%%\n"
    }
   }
  }
 ],
 "metadata": {
  "kernelspec": {
   "display_name": "Python 3",
   "language": "python",
   "name": "python3"
  },
  "language_info": {
   "codemirror_mode": {
    "name": "ipython",
    "version": 2
   },
   "file_extension": ".py",
   "mimetype": "text/x-python",
   "name": "python",
   "nbconvert_exporter": "python",
   "pygments_lexer": "ipython2",
   "version": "2.7.6"
  }
 },
 "nbformat": 4,
 "nbformat_minor": 0
}